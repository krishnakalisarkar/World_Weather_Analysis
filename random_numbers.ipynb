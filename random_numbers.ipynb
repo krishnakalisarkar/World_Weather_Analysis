{
 "cells": [
  {
   "cell_type": "code",
   "execution_count": 1,
   "id": "ab04ce85",
   "metadata": {},
   "outputs": [],
   "source": [
    "# Import the random module.\n",
    "import random"
   ]
  },
  {
   "cell_type": "code",
   "execution_count": 2,
   "id": "52d07a85",
   "metadata": {},
   "outputs": [
    {
     "data": {
      "text/plain": [
       "56"
      ]
     },
     "execution_count": 2,
     "metadata": {},
     "output_type": "execute_result"
    }
   ],
   "source": [
    "random.randint(-90,90)"
   ]
  },
  {
   "cell_type": "code",
   "execution_count": 3,
   "id": "578e5f0f",
   "metadata": {},
   "outputs": [
    {
     "data": {
      "text/plain": [
       "0.996529643045362"
      ]
     },
     "execution_count": 3,
     "metadata": {},
     "output_type": "execute_result"
    }
   ],
   "source": [
    "random.random()"
   ]
  },
  {
   "cell_type": "code",
   "execution_count": 4,
   "id": "e9c44c1f",
   "metadata": {},
   "outputs": [
    {
     "data": {
      "text/plain": [
       "-72.08249735464997"
      ]
     },
     "execution_count": 4,
     "metadata": {},
     "output_type": "execute_result"
    }
   ],
   "source": [
    "random_number= random.randint(-90,89)+ random.random()\n",
    "random_number"
   ]
  },
  {
   "cell_type": "code",
   "execution_count": 5,
   "id": "71b2e469",
   "metadata": {},
   "outputs": [
    {
     "name": "stdout",
     "output_type": "stream",
     "text": [
      "[-74.00885610180856, -71.847658956599, -70.87707965176706, -26.661463195079843, 34.5315867227347, 50.4935248690206, -74.12143647516302, 15.061010895329519, 8.80014080214699, -14.578013032049906]\n"
     ]
    }
   ],
   "source": [
    "x = 1\n",
    "lattitude = []\n",
    "while x < 11:\n",
    "    lattitude_random = random.randint(-90,89)+random.random()\n",
    "    lattitude.append(lattitude_random)\n",
    "    x += 1\n",
    "print(lattitude) "
   ]
  },
  {
   "cell_type": "markdown",
   "id": "99052ede",
   "metadata": {},
   "source": [
    "### Randrange function()"
   ]
  },
  {
   "cell_type": "code",
   "execution_count": 6,
   "id": "c99ae090",
   "metadata": {},
   "outputs": [
    {
     "data": {
      "text/plain": [
       "25"
      ]
     },
     "execution_count": 6,
     "metadata": {},
     "output_type": "execute_result"
    }
   ],
   "source": [
    "random.randrange(-90,90, step = 1)"
   ]
  },
  {
   "cell_type": "code",
   "execution_count": 7,
   "id": "4bc74a1d",
   "metadata": {},
   "outputs": [
    {
     "data": {
      "text/plain": [
       "-87"
      ]
     },
     "execution_count": 7,
     "metadata": {},
     "output_type": "execute_result"
    }
   ],
   "source": [
    "random.randrange(-90,90,step = 3)"
   ]
  },
  {
   "cell_type": "markdown",
   "id": "557853d4",
   "metadata": {},
   "source": [
    "### The Uniform function()"
   ]
  },
  {
   "cell_type": "code",
   "execution_count": 8,
   "id": "5c1bfe95",
   "metadata": {},
   "outputs": [
    {
     "data": {
      "text/plain": [
       "-81.52859478596099"
      ]
     },
     "execution_count": 8,
     "metadata": {},
     "output_type": "execute_result"
    }
   ],
   "source": [
    "random.uniform(-90,90)"
   ]
  },
  {
   "cell_type": "code",
   "execution_count": 9,
   "id": "7a8136a3",
   "metadata": {},
   "outputs": [],
   "source": [
    "# Import the NumPy module.\n",
    "import numpy as np"
   ]
  },
  {
   "cell_type": "code",
   "execution_count": 10,
   "id": "e4d98bc0",
   "metadata": {},
   "outputs": [
    {
     "data": {
      "text/plain": [
       "67.46027285193935"
      ]
     },
     "execution_count": 10,
     "metadata": {},
     "output_type": "execute_result"
    }
   ],
   "source": [
    "np.random.uniform(-90.000, 90.000)"
   ]
  },
  {
   "cell_type": "code",
   "execution_count": 11,
   "id": "9a3257aa",
   "metadata": {},
   "outputs": [
    {
     "data": {
      "text/plain": [
       "-44.505446559052274"
      ]
     },
     "execution_count": 11,
     "metadata": {},
     "output_type": "execute_result"
    }
   ],
   "source": [
    "np.random.uniform(low=-90, high=90)"
   ]
  },
  {
   "cell_type": "code",
   "execution_count": 12,
   "id": "fe5d5117",
   "metadata": {},
   "outputs": [
    {
     "data": {
      "text/plain": [
       "array([ 50.46370848,  33.44830903,  52.74625167,  18.26373021,\n",
       "         1.82798811,  74.2911886 , -16.69433165, -42.40517368,\n",
       "        16.76153133, -19.05594869,  59.02155707,   7.53055576,\n",
       "        18.44583615, -16.22890267, -21.85445823,  41.07448645,\n",
       "       -72.14196572,   7.28270602, -44.95526947, -70.35074351,\n",
       "        -7.32381913, -49.14061094, -59.39674364, -35.24624067,\n",
       "       -30.87543235, -26.09078636, -14.28720129, -84.87125497,\n",
       "       -69.9639178 ,  45.49692313, -77.09338255,  29.57190618,\n",
       "       -42.4175575 , -12.15374039,  89.16770735,  54.64194748,\n",
       "        41.3892421 ,  62.79640439, -41.94954338,  22.09650384,\n",
       "        23.47722386, -66.55878333,  81.70510905, -73.14306743,\n",
       "       -77.0798021 , -65.37228098, -72.59391882, -77.90070362,\n",
       "       -86.02406962, -49.89090229])"
      ]
     },
     "execution_count": 12,
     "metadata": {},
     "output_type": "execute_result"
    }
   ],
   "source": [
    "np.random.uniform(-90.000,90.000,size =50)"
   ]
  },
  {
   "cell_type": "code",
   "execution_count": 13,
   "id": "41b977bd",
   "metadata": {},
   "outputs": [],
   "source": [
    "# Import timeit.\n",
    "import timeit"
   ]
  },
  {
   "cell_type": "code",
   "execution_count": 14,
   "id": "e13c37ad",
   "metadata": {},
   "outputs": [
    {
     "name": "stdout",
     "output_type": "stream",
     "text": [
      "12.6 µs ± 526 ns per loop (mean ± std. dev. of 7 runs, 100000 loops each)\n"
     ]
    }
   ],
   "source": [
    "%timeit np.random.uniform(-90.000,90.000,size = 1500)"
   ]
  },
  {
   "cell_type": "code",
   "execution_count": 15,
   "id": "de378bf1",
   "metadata": {},
   "outputs": [
    {
     "name": "stdout",
     "output_type": "stream",
     "text": [
      "1.19 ms ± 54.7 µs per loop (mean ± std. dev. of 7 runs, 1000 loops each)\n"
     ]
    }
   ],
   "source": [
    "def latitudes(size):\n",
    "    latitudes = []\n",
    "    x = 0\n",
    "    while x < (size):\n",
    "        random_lat = random.randint(-90, 90) + random.random()\n",
    "        latitudes.append(random_lat)\n",
    "        x += 1\n",
    "    return latitudes\n",
    "# Call the function with 1500.\n",
    "%timeit latitudes(1500)"
   ]
  },
  {
   "cell_type": "code",
   "execution_count": 17,
   "id": "c71c6bec",
   "metadata": {},
   "outputs": [
    {
     "name": "stdout",
     "output_type": "stream",
     "text": [
      "12.1 µs ± 726 ns per loop (mean ± std. dev. of 7 runs, 100000 loops each)\n",
      "[70.11758565381257, -68.99481873360124, 72.90839333437488, 21.43538858374646, -25.791837871662228]\n"
     ]
    }
   ],
   "source": [
    "%timeit np.random.uniform(-90.000,90.000,size = 1500)\n",
    "def latitudes(size):\n",
    "    latitudes = []\n",
    "   \n",
    "    for latitude in range(size):\n",
    "        random_lat = random.randint(-90, 90) + random.random()\n",
    "        latitudes.append(random_lat)\n",
    "    return latitudes\n",
    "list = latitudes(5)\n",
    "print(list)"
   ]
  },
  {
   "cell_type": "code",
   "execution_count": null,
   "id": "cacc389f",
   "metadata": {},
   "outputs": [],
   "source": []
  }
 ],
 "metadata": {
  "kernelspec": {
   "display_name": "PythonData",
   "language": "python",
   "name": "pythondata"
  },
  "language_info": {
   "codemirror_mode": {
    "name": "ipython",
    "version": 3
   },
   "file_extension": ".py",
   "mimetype": "text/x-python",
   "name": "python",
   "nbconvert_exporter": "python",
   "pygments_lexer": "ipython3",
   "version": "3.8.5"
  }
 },
 "nbformat": 4,
 "nbformat_minor": 5
}
